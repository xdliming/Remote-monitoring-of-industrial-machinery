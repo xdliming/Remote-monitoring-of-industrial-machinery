{
 "cells": [
  {
   "cell_type": "markdown",
   "metadata": {},
   "source": [
    "need anaconda \n",
    "conda install -c conda-forge ffmpeg\n",
    "conda install -c conda-forge opencv\n"
   ]
  },
  {
   "cell_type": "code",
   "execution_count": 15,
   "metadata": {},
   "outputs": [
    {
     "name": "stdout",
     "output_type": "stream",
     "text": [
      "add when stop experiment:format:\"2018-01-10\":2020-12-02\n",
      "The capture was finished\n"
     ]
    }
   ],
   "source": [
    "\"\"\"it is only used for windows\"\"\"\n",
    "\"\"\"@author: Karen Louise Feilberg <klfe@dtu.dk> & Ming Li\"\"\"\n",
    "\"\"\"please contact Karen and ming before use it\"\"\"\n",
    "\n",
    "\n",
    "import cv2\n",
    "import datetime\n",
    "import time\n",
    "import os\n",
    "\n",
    "\n",
    "def stefano_capture(end_time,Sleep_time=None):\n",
    "    \"\"\"there are two camare: 0 and 1,\n",
    "    if there is only one camare, it still work, but just camare 2 has no data\n",
    "    the sleep time default was 30 seconds,you can change the time at main function:example: stefano_capture(end_experiment_time,5)\n",
    "    if you are not have adamistor right, please make the file first,'./Capture_pictures'\n",
    "    \n",
    "    \"\"\"\n",
    "    cam=cv2.VideoCapture(0)\n",
    "    cam2=cv2.VideoCapture(1)\n",
    "    ti= datetime.datetime.now()\n",
    "    try:\n",
    "        if not os.path.exists(os.path.dirname('./Capture_pictures')):\n",
    "            os.makedirs(os.path.dirname('../Capture_pictures'))\n",
    "    except OSError as err:\n",
    "        print(err)\n",
    "    \n",
    "    while ti <= end_time:\n",
    "        ti= datetime.datetime.now()\n",
    "        nowtime='day_'+str(ti.month)+'-'+str(ti.day)+'-'+str(ti.hour)+'-'+str(ti.minute)+'-'+str(ti.second)\n",
    "        #print(nowtime)\n",
    "        s,img=cam.read()\n",
    "        s2,img2=cam2.read()\n",
    "        Path_img1=os.path.join(os.getcwd(),'Capture_pictures','1_'+nowtime+'.png')\n",
    "        Path_img2=os.path.join(os.getcwd(),'Capture_pictures','2_'+nowtime+'.png')\n",
    "        cv2.imwrite(Path_img1, img)\n",
    "        cv2.imwrite(Path_img2, img2)\n",
    "        \n",
    "        if Sleep_time!=None:\n",
    "            time.sleep(Sleep_time)\n",
    "        else:\n",
    "            time.sleep(30)\n",
    "            \n",
    "    del(cam)\n",
    "    del(cam2)\n",
    "    print('The capture was finished')\n",
    "\n",
    "\n",
    "\n",
    "if __name__ == '__main__':\n",
    "    end_experiment_time=input('add when stop experiment:format:\"2018-01-10\":')\n",
    "    end_experiment_time= datetime.datetime.strptime(end_experiment_time,\"%Y-%m-%d\")\n",
    "    stefano_capture(end_experiment_time)\n",
    "    "
   ]
  },
  {
   "cell_type": "code",
   "execution_count": null,
   "metadata": {},
   "outputs": [],
   "source": []
  }
 ],
 "metadata": {
  "kernelspec": {
   "display_name": "Python 3",
   "language": "python",
   "name": "python3"
  },
  "language_info": {
   "codemirror_mode": {
    "name": "ipython",
    "version": 3
   },
   "file_extension": ".py",
   "mimetype": "text/x-python",
   "name": "python",
   "nbconvert_exporter": "python",
   "pygments_lexer": "ipython3",
   "version": "3.6.6"
  }
 },
 "nbformat": 4,
 "nbformat_minor": 2
}
